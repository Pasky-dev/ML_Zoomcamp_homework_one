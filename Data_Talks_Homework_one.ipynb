{
 "cells": [
  {
   "cell_type": "code",
   "execution_count": 1,
   "id": "f6580249",
   "metadata": {},
   "outputs": [],
   "source": [
    "import pandas as pd\n",
    "import numpy as np"
   ]
  },
  {
   "cell_type": "code",
   "execution_count": 2,
   "id": "91f71487",
   "metadata": {},
   "outputs": [
    {
     "data": {
      "text/plain": [
       "'2.0.3'"
      ]
     },
     "execution_count": 2,
     "metadata": {},
     "output_type": "execute_result"
    }
   ],
   "source": [
    "pd.__version__"
   ]
  },
  {
   "cell_type": "code",
   "execution_count": 3,
   "id": "8093763f",
   "metadata": {},
   "outputs": [
    {
     "data": {
      "text/html": [
       "<div>\n",
       "<style scoped>\n",
       "    .dataframe tbody tr th:only-of-type {\n",
       "        vertical-align: middle;\n",
       "    }\n",
       "\n",
       "    .dataframe tbody tr th {\n",
       "        vertical-align: top;\n",
       "    }\n",
       "\n",
       "    .dataframe thead th {\n",
       "        text-align: right;\n",
       "    }\n",
       "</style>\n",
       "<table border=\"1\" class=\"dataframe\">\n",
       "  <thead>\n",
       "    <tr style=\"text-align: right;\">\n",
       "      <th></th>\n",
       "      <th>Laptop</th>\n",
       "      <th>Status</th>\n",
       "      <th>Brand</th>\n",
       "      <th>Model</th>\n",
       "      <th>CPU</th>\n",
       "      <th>RAM</th>\n",
       "      <th>Storage</th>\n",
       "      <th>Storage type</th>\n",
       "      <th>GPU</th>\n",
       "      <th>Screen</th>\n",
       "      <th>Touch</th>\n",
       "      <th>Final Price</th>\n",
       "    </tr>\n",
       "  </thead>\n",
       "  <tbody>\n",
       "    <tr>\n",
       "      <th>2138</th>\n",
       "      <td>Microsoft Surface Pro X Microsoft SQ1/8 GB/256...</td>\n",
       "      <td>Refurbished</td>\n",
       "      <td>Microsoft</td>\n",
       "      <td>Surface Pro</td>\n",
       "      <td>Microsoft SQ1</td>\n",
       "      <td>8</td>\n",
       "      <td>256</td>\n",
       "      <td>SSD</td>\n",
       "      <td>NaN</td>\n",
       "      <td>13.0</td>\n",
       "      <td>Yes</td>\n",
       "      <td>1299.0</td>\n",
       "    </tr>\n",
       "  </tbody>\n",
       "</table>\n",
       "</div>"
      ],
      "text/plain": [
       "                                                 Laptop       Status  \\\n",
       "2138  Microsoft Surface Pro X Microsoft SQ1/8 GB/256...  Refurbished   \n",
       "\n",
       "          Brand        Model            CPU  RAM  Storage Storage type  GPU  \\\n",
       "2138  Microsoft  Surface Pro  Microsoft SQ1    8      256          SSD  NaN   \n",
       "\n",
       "      Screen Touch  Final Price  \n",
       "2138    13.0   Yes       1299.0  "
      ]
     },
     "execution_count": 3,
     "metadata": {},
     "output_type": "execute_result"
    }
   ],
   "source": [
    "data = pd.read_csv(r\"C:\\Users\\HP\\Desktop\\data_talks\\data.csv\")\n",
    "data.sample()"
   ]
  },
  {
   "cell_type": "code",
   "execution_count": 4,
   "id": "8e7ad85e",
   "metadata": {},
   "outputs": [
    {
     "data": {
      "text/plain": [
       "2160"
      ]
     },
     "execution_count": 4,
     "metadata": {},
     "output_type": "execute_result"
    }
   ],
   "source": [
    "\"\"\"\n",
    "Q2. Records count\n",
    "How many records are in the dataset?\n",
    "\"\"\"\n",
    "\n",
    "data.shape[0]"
   ]
  },
  {
   "cell_type": "code",
   "execution_count": 5,
   "id": "80366b65",
   "metadata": {},
   "outputs": [
    {
     "data": {
      "text/plain": [
       "27"
      ]
     },
     "execution_count": 5,
     "metadata": {},
     "output_type": "execute_result"
    }
   ],
   "source": [
    "\"\"\"\n",
    "Q3. Laptop brands\n",
    "How many laptop brands are presented in the dataset?\n",
    "\"\"\"\n",
    "\n",
    "data['Brand'].nunique()"
   ]
  },
  {
   "cell_type": "code",
   "execution_count": 6,
   "id": "c00c11c1",
   "metadata": {},
   "outputs": [
    {
     "data": {
      "text/plain": [
       "Laptop             0\n",
       "Status             0\n",
       "Brand              0\n",
       "Model              0\n",
       "CPU                0\n",
       "RAM                0\n",
       "Storage            0\n",
       "Storage type      42\n",
       "GPU             1371\n",
       "Screen             4\n",
       "Touch              0\n",
       "Final Price        0\n",
       "dtype: int64"
      ]
     },
     "execution_count": 6,
     "metadata": {},
     "output_type": "execute_result"
    }
   ],
   "source": [
    "\"\"\"\n",
    "Q4. Missing values\n",
    "How many columns in the dataset have missing values?\n",
    "\"\"\"\n",
    "data.isnull().sum()"
   ]
  },
  {
   "cell_type": "code",
   "execution_count": 7,
   "id": "48234861",
   "metadata": {},
   "outputs": [
    {
     "data": {
      "text/plain": [
       "3936.0"
      ]
     },
     "execution_count": 7,
     "metadata": {},
     "output_type": "execute_result"
    }
   ],
   "source": [
    "\"\"\"\n",
    "Q5. Maximum final price\n",
    "What's the maximum final price of Dell notebooks in the dataset?\n",
    "\"\"\"\n",
    "data[data['Brand']==\"Dell\"]['Final Price'].max()"
   ]
  },
  {
   "cell_type": "code",
   "execution_count": 8,
   "id": "60d50af0",
   "metadata": {},
   "outputs": [
    {
     "data": {
      "text/plain": [
       "15.6"
      ]
     },
     "execution_count": 8,
     "metadata": {},
     "output_type": "execute_result"
    }
   ],
   "source": [
    "\"\"\"\n",
    "Q6. Median value of Screen\n",
    "Find the median value of Screen column in the dataset.\n",
    "Next, calculate the most frequent value of the same Screen column.\n",
    "Use fillna method to fill the missing values in Screen column with the most frequent value from the previous step.\n",
    "Now, calculate the median value of Screen once again.\n",
    "Has it changed?\n",
    "\n",
    "Hint: refer to existing mode and median functions to complete the task.\n",
    "\n",
    "Yes\n",
    "No\n",
    "\"\"\"\n",
    "\n",
    "data['Screen'].median()"
   ]
  },
  {
   "cell_type": "code",
   "execution_count": 9,
   "id": "096ad811",
   "metadata": {},
   "outputs": [
    {
     "data": {
      "text/plain": [
       "15.6"
      ]
     },
     "execution_count": 9,
     "metadata": {},
     "output_type": "execute_result"
    }
   ],
   "source": [
    "screen_mode=data['Screen'].mode()\n",
    "data['Screen'] = data['Screen'].fillna(screen_mode)\n",
    "data['Screen'].median()"
   ]
  },
  {
   "cell_type": "code",
   "execution_count": 10,
   "id": "039cb4fb",
   "metadata": {},
   "outputs": [
    {
     "name": "stdout",
     "output_type": "stream",
     "text": [
      "\n",
      "7. Sum of weights\n",
      "Select all the \"Innjoo\" laptops from the dataset.\n",
      "Select only columns RAM, Storage, Screen.\n",
      "Get the underlying NumPy array. Let's call it X.\n",
      "Compute matrix-matrix multiplication between the transpose of X and X. To get the transpose, use X.T. Let's call the result XTX.\n",
      "Compute the inverse of XTX.\n",
      "Create an array y with values [1100, 1300, 800, 900, 1000, 1100].\n",
      "Multiply the inverse of XTX with the transpose of X, and then multiply the result by y. Call the result w.\n",
      "What's the sum of all the elements of the result?\n",
      "Note: You just implemented linear regression. We'll talk about it in the next lesson.\n",
      "\n",
      "0.43\n",
      "45.29\n",
      "45.58\n",
      "91.30\n",
      "\n"
     ]
    }
   ],
   "source": [
    "question= \"\"\"\n",
    "7. Sum of weights\n",
    "Select all the \"Innjoo\" laptops from the dataset.\n",
    "Select only columns RAM, Storage, Screen.\n",
    "Get the underlying NumPy array. Let's call it X.\n",
    "Compute matrix-matrix multiplication between the transpose of X and X. To get the transpose, use X.T. Let's call the result XTX.\n",
    "Compute the inverse of XTX.\n",
    "Create an array y with values [1100, 1300, 800, 900, 1000, 1100].\n",
    "Multiply the inverse of XTX with the transpose of X, and then multiply the result by y. Call the result w.\n",
    "What's the sum of all the elements of the result?\n",
    "Note: You just implemented linear regression. We'll talk about it in the next lesson.\n",
    "\n",
    "0.43\n",
    "45.29\n",
    "45.58\n",
    "91.30\n",
    "\"\"\"\n",
    "print(question)"
   ]
  },
  {
   "cell_type": "code",
   "execution_count": 11,
   "id": "7780faf6",
   "metadata": {},
   "outputs": [
    {
     "data": {
      "text/plain": [
       "array([[ 2.78025381e-01, -1.51791334e-03, -1.00809855e-01],\n",
       "       [-1.51791334e-03,  1.58286725e-05,  4.48052175e-04],\n",
       "       [-1.00809855e-01,  4.48052175e-04,  3.87214888e-02]])"
      ]
     },
     "execution_count": 11,
     "metadata": {},
     "output_type": "execute_result"
    }
   ],
   "source": [
    "X = data[data['Brand'] == 'Innjoo'][['RAM', 'Storage', 'Screen']].values\n",
    "\n",
    "XTX = X.T.dot(X)\n",
    "\n",
    "XTX_inv = np.linalg.inv(XTX)\n",
    "XTX_inv"
   ]
  },
  {
   "cell_type": "code",
   "execution_count": 12,
   "id": "07f87bd4",
   "metadata": {},
   "outputs": [],
   "source": [
    "y = np.array([1100, 1300, 800, 900, 1000, 1100])\n",
    "w = (XTX_inv @ X.T) @ y"
   ]
  },
  {
   "cell_type": "code",
   "execution_count": 13,
   "id": "a9ba83ed",
   "metadata": {},
   "outputs": [
    {
     "data": {
      "text/plain": [
       "91.29988062995542"
      ]
     },
     "execution_count": 13,
     "metadata": {},
     "output_type": "execute_result"
    }
   ],
   "source": [
    "w.sum()"
   ]
  }
 ],
 "metadata": {
  "kernelspec": {
   "display_name": "Python 3 (ipykernel)",
   "language": "python",
   "name": "python3"
  },
  "language_info": {
   "codemirror_mode": {
    "name": "ipython",
    "version": 3
   },
   "file_extension": ".py",
   "mimetype": "text/x-python",
   "name": "python",
   "nbconvert_exporter": "python",
   "pygments_lexer": "ipython3",
   "version": "3.11.5"
  }
 },
 "nbformat": 4,
 "nbformat_minor": 5
}
